{
 "cells": [
  {
   "cell_type": "markdown",
   "metadata": {
    "collapsed": true,
    "pycharm": {
     "name": "#%% md\n"
    }
   },
   "source": [
    "# 3. Seasonality\n",
    "\n",
    "We say that a time series exhibits **seasonality** whenever there is a `regular, periodic change in the mean of the series`. Seasonal changes generally follow the clock and calendar -- repetitions over a day, a week, or a year are common. Seasonality is often driven by the cycles of the natural world over days and years or by conventions of social behavior surrounding dates and times.\n",
    "\n",
    "Below figure shows 4 example seasonality pattern:\n",
    "\n",
    "![03.ts_seasonality_exp.png](../img/03.ts_seasonality_exp.png)\n",
    "\n",
    "In this section, we will learn two kinds of features that model seasonality:\n",
    "1. **indicators**: it is best for a season with few observations, like a weekly season of daily observations.\n",
    "2. **Fourier features**: it is best for a season with many observations, like an annual season of daily observations."
   ]
  },
  {
   "cell_type": "markdown",
   "source": [
    "## 3.1 Seasonal Plots and Seasonal Indicators\n",
    "\n",
    "Just like we used a moving average plot to discover the trend in a series, we can use a **seasonal plot** to discover seasonal patterns.\n",
    "\n",
    "A seasonal plot shows segments of the time series plotted against some common period, the period being the \"season\" you want to observe. The figure shows a seasonal plot of the daily views of Wikipedia's article on Trigonometry: the article's daily views plotted over a common weekly period.\n",
    "\n",
    "![03.ts_seasonality_plot.png](../img/03.ts_seasonality_plot.png)\n",
    "\n",
    "There is a clear weekly seasonal pattern in this series, higher on weekdays and falling towards the weekend.\n",
    "\n",
    "## 3.1.1 Seasonal indicators\n",
    "**Seasonal indicators** are binary features that represent seasonal differences in the level of a time series. Seasonal indicators are what you get if you treat a seasonal period as a categorical feature and apply one-hot encoding.\n",
    "\n",
    "By one-hot encoding days of the week, we get weekly seasonal indicators. Creating weekly indicators for the `Trigonometry` series will then give us six new \"dummy\" features. (Linear regression works best if you drop one of the indicators; we chose Monday in the frame below.)\n",
    "\n",
    "```text\n",
    "Date\tTuesday\tWednesday\tThursday\tFriday\tSaturday\tSunday\n",
    "2016-01-04\t0.0\t0.0\t0.0\t0.0\t0.0\t0.0\n",
    "2016-01-05\t1.0\t0.0\t0.0\t0.0\t0.0\t0.0\n",
    "2016-01-06\t0.0\t1.0\t0.0\t0.0\t0.0\t0.0\n",
    "2016-01-07\t0.0\t0.0\t1.0\t0.0\t0.0\t0.0\n",
    "2016-01-08\t0.0\t0.0\t0.0\t1.0\t0.0\t0.0\n",
    "2016-01-09\t0.0\t0.0\t0.0\t0.0\t1.0\t0.0\n",
    "2016-01-10\t0.0\t0.0\t0.0\t0.0\t0.0\t1.0\n",
    "2016-01-11\t0.0\t0.0\t0.0\t0.0\t0.0\t0.0\n",
    "...\t...\t...\t...\t...\t...\t...\n",
    "```\n",
    "\n",
    "\n",
    "Adding seasonal indicators to the training data helps models distinguish means within a seasonal period:\n",
    "\n",
    "![03.ts_seasonality_plot_indicator.png](../img/03.ts_seasonality_plot_indicator.png)\n",
    "\n",
    "The indicators act as On / Off switches. At any time, at most one of these indicators can have a value of `1` (On). Linear regression learns a baseline value `2379` for Mon and then adjusts by the value of whichever indicator is On for that day; the rest are `0` and vanish."
   ],
   "metadata": {
    "collapsed": false,
    "pycharm": {
     "name": "#%% md\n"
    }
   }
  },
  {
   "cell_type": "code",
   "execution_count": null,
   "outputs": [],
   "source": [],
   "metadata": {
    "collapsed": false,
    "pycharm": {
     "name": "#%%\n"
    }
   }
  }
 ],
 "metadata": {
  "kernelspec": {
   "display_name": "Python 3",
   "language": "python",
   "name": "python3"
  },
  "language_info": {
   "codemirror_mode": {
    "name": "ipython",
    "version": 2
   },
   "file_extension": ".py",
   "mimetype": "text/x-python",
   "name": "python",
   "nbconvert_exporter": "python",
   "pygments_lexer": "ipython2",
   "version": "2.7.6"
  }
 },
 "nbformat": 4,
 "nbformat_minor": 0
}